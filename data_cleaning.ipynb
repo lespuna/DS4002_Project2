{
 "cells": [
  {
   "cell_type": "markdown",
   "id": "80822918",
   "metadata": {},
   "source": [
    "hi, anthony here"
   ]
  },
  {
   "cell_type": "markdown",
   "id": "ecd562af",
   "metadata": {},
   "source": [
    "hi laura here"
   ]
  },
  {
   "cell_type": "markdown",
   "id": "cb27b733",
   "metadata": {},
   "source": [
    "### Loading the data (Metro_zhvi_uc_sfrcondo_tier_0.33_0.67_sm_sa_month.csv)"
   ]
  },
  {
   "cell_type": "code",
   "execution_count": 7,
   "id": "07da35b5",
   "metadata": {},
   "outputs": [],
   "source": [
    "import os\n",
    "import re\n",
    "import pandas as pd\n",
    "import numpy as np\n",
    "import matplotlib.pyplot as plt\n",
    "\n",
    "CSV_PATH = \"DATA/Metro_zhvi_uc_sfrcondo_tier_0.33_0.67_sm_sa_month.csv\"  \n",
    "OUTPUT_DIR = \"DATA\"                    \n",
    "CITIES = [\"New York, NY\", \"Los Angeles, CA\", \"Chicago, IL\", \"San Francisco, CA\", \"Miami, FL\"]\n",
    "\n",
    "os.makedirs(OUTPUT_DIR, exist_ok=True)\n",
    "pd.options.display.float_format = \"{:,.2f}\".format"
   ]
  },
  {
   "cell_type": "markdown",
   "id": "d17849d0",
   "metadata": {},
   "source": [
    "### Cleans and reshapes the Zillow ZHVI data (wide → long)\n",
    "\n",
    "This step converts the wide ZHVI CSV into a tidy long table: it detects monthly date columns, coerces values to numeric, melts date columns into `date`/`zhvi` rows, parses `date` values, drops rows with invalid dates, and interpolates small gaps in `zhvi` within each `RegionName`. It also normalizes column types (e.g. `SizeRank`, `RegionType`) and saves the cleaned long dataset to `DATA/zhvi_clean_long.csv`."
   ]
  },
  {
   "cell_type": "code",
   "execution_count": 8,
   "id": "9871a21c",
   "metadata": {},
   "outputs": [
    {
     "name": "stdout",
     "output_type": "stream",
     "text": [
      "Clean long file saved → DATA/zhvi_clean_long.csv\n"
     ]
    },
    {
     "data": {
      "text/html": [
       "<div>\n",
       "<style scoped>\n",
       "    .dataframe tbody tr th:only-of-type {\n",
       "        vertical-align: middle;\n",
       "    }\n",
       "\n",
       "    .dataframe tbody tr th {\n",
       "        vertical-align: top;\n",
       "    }\n",
       "\n",
       "    .dataframe thead th {\n",
       "        text-align: right;\n",
       "    }\n",
       "</style>\n",
       "<table border=\"1\" class=\"dataframe\">\n",
       "  <thead>\n",
       "    <tr style=\"text-align: right;\">\n",
       "      <th></th>\n",
       "      <th>RegionID</th>\n",
       "      <th>SizeRank</th>\n",
       "      <th>RegionName</th>\n",
       "      <th>RegionType</th>\n",
       "      <th>StateName</th>\n",
       "      <th>date</th>\n",
       "      <th>zhvi</th>\n",
       "    </tr>\n",
       "  </thead>\n",
       "  <tbody>\n",
       "    <tr>\n",
       "      <th>0</th>\n",
       "      <td>394297</td>\n",
       "      <td>677</td>\n",
       "      <td>Aberdeen, SD</td>\n",
       "      <td>msa</td>\n",
       "      <td>SD</td>\n",
       "      <td>2000-01-31</td>\n",
       "      <td>132,475.35</td>\n",
       "    </tr>\n",
       "    <tr>\n",
       "      <th>1</th>\n",
       "      <td>394297</td>\n",
       "      <td>677</td>\n",
       "      <td>Aberdeen, SD</td>\n",
       "      <td>msa</td>\n",
       "      <td>SD</td>\n",
       "      <td>2000-02-29</td>\n",
       "      <td>132,475.35</td>\n",
       "    </tr>\n",
       "    <tr>\n",
       "      <th>2</th>\n",
       "      <td>394297</td>\n",
       "      <td>677</td>\n",
       "      <td>Aberdeen, SD</td>\n",
       "      <td>msa</td>\n",
       "      <td>SD</td>\n",
       "      <td>2000-03-31</td>\n",
       "      <td>132,475.35</td>\n",
       "    </tr>\n",
       "    <tr>\n",
       "      <th>3</th>\n",
       "      <td>394297</td>\n",
       "      <td>677</td>\n",
       "      <td>Aberdeen, SD</td>\n",
       "      <td>msa</td>\n",
       "      <td>SD</td>\n",
       "      <td>2000-04-30</td>\n",
       "      <td>132,475.35</td>\n",
       "    </tr>\n",
       "    <tr>\n",
       "      <th>4</th>\n",
       "      <td>394297</td>\n",
       "      <td>677</td>\n",
       "      <td>Aberdeen, SD</td>\n",
       "      <td>msa</td>\n",
       "      <td>SD</td>\n",
       "      <td>2000-05-31</td>\n",
       "      <td>132,475.35</td>\n",
       "    </tr>\n",
       "  </tbody>\n",
       "</table>\n",
       "</div>"
      ],
      "text/plain": [
       "   RegionID  SizeRank    RegionName RegionType StateName       date       zhvi\n",
       "0    394297       677  Aberdeen, SD        msa        SD 2000-01-31 132,475.35\n",
       "1    394297       677  Aberdeen, SD        msa        SD 2000-02-29 132,475.35\n",
       "2    394297       677  Aberdeen, SD        msa        SD 2000-03-31 132,475.35\n",
       "3    394297       677  Aberdeen, SD        msa        SD 2000-04-30 132,475.35\n",
       "4    394297       677  Aberdeen, SD        msa        SD 2000-05-31 132,475.35"
      ]
     },
     "execution_count": 8,
     "metadata": {},
     "output_type": "execute_result"
    }
   ],
   "source": [
    "def load_zhvi_wide(csv_path: str) -> pd.DataFrame:\n",
    "    \"\"\"\n",
    "    Loads the Zillow ZHVI wide file.\n",
    "    Assumes metadata columns (RegionID, SizeRank, RegionName, RegionType, StateName)\n",
    "    followed by hundreds of YYYY-MM-DD monthly columns.\n",
    "    \"\"\"\n",
    "    df = pd.read_csv(csv_path, low_memory=False)\n",
    "    return df\n",
    "\n",
    "def zhvi_wide_to_long(df_wide: pd.DataFrame) -> pd.DataFrame:\n",
    "    \"\"\"\n",
    "    Convert wide ZHVI (date columns) to long tidy format: one row per (RegionName, date).\n",
    "    - Detects date columns by regex\n",
    "    - Coerces numeric\n",
    "    - Melts to long\n",
    "    - Interpolates small gaps within each region\n",
    "    \"\"\"\n",
    "    # Identify date columns like \"2000-01-31\"\n",
    "    date_cols = [c for c in df_wide.columns if re.match(r\"^\\d{4}-\\d{2}-\\d{2}$\", str(c))]\n",
    "    meta_cols = [c for c in df_wide.columns if c not in date_cols]\n",
    "\n",
    "    # Coerce values to numeric (leave NaNs if any)\n",
    "    df_num = df_wide.copy()\n",
    "    for c in date_cols:\n",
    "        df_num[c] = pd.to_numeric(df_num[c], errors=\"coerce\")\n",
    "\n",
    "    # Melt to long\n",
    "    long = df_num.melt(\n",
    "        id_vars=meta_cols, value_vars=date_cols,\n",
    "        var_name=\"date\", value_name=\"zhvi\"\n",
    "    )\n",
    "    long[\"date\"] = pd.to_datetime(long[\"date\"], errors=\"coerce\")\n",
    "    long = long.dropna(subset=[\"date\"]).sort_values([\"RegionName\", \"date\"]).reset_index(drop=True)\n",
    "\n",
    "    # Interpolate small gaps per region\n",
    "    long[\"zhvi\"] = (\n",
    "        long.groupby(\"RegionName\", group_keys=False)[\"zhvi\"]\n",
    "            .apply(lambda s: s.interpolate(limit_direction=\"both\"))\n",
    "    )\n",
    "\n",
    "    # Helpful canonical types\n",
    "    if \"SizeRank\" in long.columns:\n",
    "        long[\"SizeRank\"] = pd.to_numeric(long[\"SizeRank\"], errors=\"coerce\")\n",
    "    if \"RegionType\" in long.columns:\n",
    "        long[\"RegionType\"] = long[\"RegionType\"].astype(str)\n",
    "\n",
    "    return long\n",
    "\n",
    "# Run it\n",
    "df_wide = load_zhvi_wide(CSV_PATH)\n",
    "zhvi_long = zhvi_wide_to_long(df_wide)\n",
    "\n",
    "# Save a clean copy for reuse\n",
    "clean_csv_path = os.path.join(OUTPUT_DIR, \"zhvi_clean_long.csv\")\n",
    "zhvi_long.to_csv(clean_csv_path, index=False)\n",
    "print(f\"Clean long file saved → {clean_csv_path}\")\n",
    "\n",
    "zhvi_long.head()"
   ]
  }
 ],
 "metadata": {
  "kernelspec": {
   "display_name": ".venv",
   "language": "python",
   "name": "python3"
  },
  "language_info": {
   "codemirror_mode": {
    "name": "ipython",
    "version": 3
   },
   "file_extension": ".py",
   "mimetype": "text/x-python",
   "name": "python",
   "nbconvert_exporter": "python",
   "pygments_lexer": "ipython3",
   "version": "3.11.1"
  }
 },
 "nbformat": 4,
 "nbformat_minor": 5
}
