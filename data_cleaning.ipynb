{
 "cells": [
  {
   "cell_type": "markdown",
   "id": "80822918",
   "metadata": {},
   "source": [
    "hi, anthony here"
   ]
  }
 ],
 "metadata": {
  "language_info": {
   "name": "python"
  }
 },
 "nbformat": 4,
 "nbformat_minor": 5
}
